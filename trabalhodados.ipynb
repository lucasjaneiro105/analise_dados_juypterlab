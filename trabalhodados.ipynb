{
 "cells": [
  {
   "cell_type": "markdown",
   "id": "34634bf9-f11c-492d-b2bd-e0c4e655768d",
   "metadata": {},
   "source": [
    "# Trabalho de Análise de Dados e Big Data"
   ]
  },
  {
   "cell_type": "markdown",
   "id": "f046e456-ba70-4cdd-b124-38592262864b",
   "metadata": {},
   "source": [
    "## Sobre a Empresa e o Dataset\n",
    "\n",
    "A EcoEletro é uma proeminente empresa de e-commerce atuando em eletrônicos, sua plataforma intuitiva oferece uma extensa variedade de produtos, garantindo uma experiência de compra excepcional.\n",
    "\n",
    "A empresa EcoEletro disponibilizou um conjunto de dados referente às suas vendas no período de janeiro a março para que realizássemos uma análise pertinente sobre seus dados de vendas.\n",
    "\n",
    "[Link do Dataset](https://docs.google.com/spreadsheets/d/1SvLK34vGdcALSUd_ye7UaQbR9dRoruYk/edit?usp=sharing&ouid=110410209786316924452&rtpof=true&sd=true)\r\n",
    "\n",
    "\n",
    "\r\n"
   ]
  },
  {
   "cell_type": "markdown",
   "id": "d0b8bae7-c106-4a45-b83f-25188e043880",
   "metadata": {},
   "source": [
    "### Transformando o dataset em dataframeme `df`\r\n"
   ]
  },
  {
   "cell_type": "code",
   "execution_count": 2,
   "id": "cd20391a-9b2c-41b3-9977-520233223c51",
   "metadata": {
    "scrolled": true
   },
   "outputs": [
    {
     "name": "stdout",
     "output_type": "stream",
     "text": [
      "    Nome: Sobrenome: Gênero: Estado:    Produto:  Valor Unitário:  \\\n",
      "0   Maria       Cruz       F      SP    Cabo USB               20   \n",
      "1  Rafael  Rodrigues       M      MG       Mouse               30   \n",
      "2    João      Costa       M      PR    Cabo USB               20   \n",
      "3  Miguel    Almeida       M      RJ  HD Externo              600   \n",
      "4  Miguel   Carvalho       M      RJ  Impressora              380   \n",
      "\n",
      "   Quantidade:       Mês: Forma de Pagamento:  \n",
      "0            7  Fevereiro                 PIX  \n",
      "1           17      Março                 PIX  \n",
      "2           15    Janeiro                 PIX  \n",
      "3           17  Fevereiro              Cartão  \n",
      "4           19      Março              Boleto  \n"
     ]
    }
   ],
   "source": [
    "import pandas as pd\n",
    "\n",
    "# Caminho para o arquivo xlsx\n",
    "arquivo_excel = r'C:\\Users\\Lucas Janeiro\\Downloads\\vendas.xlsx'\n",
    "\n",
    "# Ler o arquivo \n",
    "df = pd.read_excel(arquivo_excel)\n",
    "\n",
    "# Visualização das primeiras linhas do DataFrame com o método head()\n",
    "print(df.head())\n"
   ]
  },
  {
   "cell_type": "markdown",
   "id": "abeffac9-c7cc-4cfb-92f5-a2c9c46d534b",
   "metadata": {},
   "source": [
    "### Público da Empresa"
   ]
  },
  {
   "cell_type": "markdown",
   "id": "5d52338d-f619-4be8-b39a-8021468b0425",
   "metadata": {},
   "source": [
    "- Quantidade de clientes nível Nacional "
   ]
  },
  {
   "cell_type": "code",
   "execution_count": 5,
   "id": "6e43e5b6-0c72-499d-972d-63a55fb226da",
   "metadata": {},
   "outputs": [
    {
     "name": "stdout",
     "output_type": "stream",
     "text": [
      "Quantidade de clientes em nível nacional: 2759\n"
     ]
    }
   ],
   "source": [
    "# Contar o número de clientes \n",
    "numero_de_clientes = df['Nome:'].count()\n",
    "print(f\"Quantidade de clientes em nível nacional: {numero_de_clientes}\")\n",
    "\n"
   ]
  },
  {
   "cell_type": "markdown",
   "id": "97ed0fe6-ba1a-470e-869e-0e28d42a5a78",
   "metadata": {},
   "source": [
    "- Excluindo a coluna sobrenome\r\n"
   ]
  },
  {
   "cell_type": "code",
   "execution_count": 7,
   "id": "0c102902-3555-4682-a248-4ca46c755b3a",
   "metadata": {},
   "outputs": [],
   "source": [
    "# Excluir a coluna \"Sobrenome\" diretamente no DataFrame atual, pois a coluna não mostra utilidade na elaboração dos principais indicadores da empresa.\n",
    "df.drop('Sobrenome:', axis=1, inplace=True)\n"
   ]
  },
  {
   "cell_type": "markdown",
   "id": "e5c2ec18-fb56-493d-9fbf-9303b5e72895",
   "metadata": {},
   "source": [
    "- Quantidade de clientes por Estado"
   ]
  },
  {
   "cell_type": "code",
   "execution_count": 13,
   "id": "b6d5941c-295d-420b-9546-835d187c6c93",
   "metadata": {},
   "outputs": [
    {
     "name": "stdout",
     "output_type": "stream",
     "text": [
      "Estado:\n",
      "BA    606\n",
      "MG    537\n",
      "PR    551\n",
      "RJ    526\n",
      "SP    539\n",
      "dtype: int64\n"
     ]
    }
   ],
   "source": [
    "# Agrupar o DataFrame pelo estado e contar o número de entradas em cada estado\n",
    "entradas_por_estado = df.groupby('Estado:').size()\n",
    "\n",
    "# Exibindo a quantidade de entradas por estado\n",
    "print(entradas_por_estado)\n"
   ]
  },
  {
   "cell_type": "markdown",
   "id": "6e6988dc-c448-4fec-b249-22c4d2297570",
   "metadata": {},
   "source": [
    "- Gênero do Público"
   ]
  },
  {
   "cell_type": "code",
   "execution_count": 19,
   "id": "c24158ea-68fc-47cf-b6fb-0d5c9d949331",
   "metadata": {
    "scrolled": true
   },
   "outputs": [
    {
     "name": "stdout",
     "output_type": "stream",
     "text": [
      "Gênero: M, Quantidade: 1536, Porcentagem: 55.67%\n",
      "Gênero: F, Quantidade: 1223, Porcentagem: 44.33%\n"
     ]
    }
   ],
   "source": [
    "# Contar a quantidade de entradas para cada gênero\n",
    "contagem_genero = df['Gênero:'].value_counts()\n",
    "\n",
    "# Calcular a porcentagem de cada gênero\n",
    "porcentagem_genero = (df['Gênero:'].value_counts(normalize=True) * 100)\n",
    "\n",
    "# Exibindo a quantidade e porcentagem de cada gênero\n",
    "for genero, contagem in contagem_genero.items():\n",
    "    porcentagem = porcentagem_genero[genero]\n",
    "    print(f\"Gênero: {genero}, Quantidade: {contagem}, Porcentagem: {porcentagem:.2f}%\")\n"
   ]
  },
  {
   "cell_type": "markdown",
   "id": "ea1f9bca-fcfc-4a42-a513-05e7fe58abf0",
   "metadata": {},
   "source": [
    "- maior Gênero por Estado"
   ]
  },
  {
   "cell_type": "code",
   "execution_count": 18,
   "id": "1aab56ee-ecac-4911-bbb5-d7a78ca2177f",
   "metadata": {},
   "outputs": [
    {
     "name": "stdout",
     "output_type": "stream",
     "text": [
      "Estado: BA, Gênero Mais Frequente: M\n",
      "Estado: MG, Gênero Mais Frequente: M\n",
      "Estado: PR, Gênero Mais Frequente: M\n",
      "Estado: RJ, Gênero Mais Frequente: M\n",
      "Estado: SP, Gênero Mais Frequente: M\n"
     ]
    }
   ],
   "source": [
    "# Agrupar por estado e gênero e contar as entradas em cada grupo\n",
    "contagem_estado_genero = df.groupby(['Estado:', 'Gênero:']).size()\n",
    "\n",
    "# Encontrar o gênero mais frequente em cada estado\n",
    "genero_mais_frequente = contagem_estado_genero.groupby('Estado:').idxmax().apply(lambda x: x[1])\n",
    "\n",
    "# Exibindo o gênero mais frequente por estado\n",
    "for estado, genero in genero_mais_frequente.items():\n",
    "    print(f\"Estado: {estado}, Gênero Mais Frequente: {genero}\")\n"
   ]
  },
  {
   "cell_type": "markdown",
   "id": "617a019a-ef54-4491-93ef-86d579152d50",
   "metadata": {},
   "source": [
    "- Ranking da forma de pagamento dos clientes Nivel Nacional "
   ]
  },
  {
   "cell_type": "code",
   "execution_count": 15,
   "id": "4f691e25-7bac-4bac-a31d-45a606fbc160",
   "metadata": {
    "scrolled": true
   },
   "outputs": [
    {
     "name": "stdout",
     "output_type": "stream",
     "text": [
      "Ranking da Forma de Pagamento:\n",
      "1. Forma de Pagamento: Cartão, Quantidade: 942\n",
      "2. Forma de Pagamento: Boleto, Quantidade: 937\n",
      "3. Forma de Pagamento: PIX, Quantidade: 880\n"
     ]
    }
   ],
   "source": [
    "# Contar a quantidade de cada forma de pagamento\n",
    "contagem_forma_pagamento = df['Forma de Pagamento:'].value_counts()\n",
    "\n",
    "# Exibindo o ranking das formas de pagamento\n",
    "print(\"Ranking da Forma de Pagamento:\")\n",
    "for i, (forma_pagamento, contagem) in enumerate(contagem_forma_pagamento.items(), 1):\n",
    "    print(f\"{i}. Forma de Pagamento: {forma_pagamento}, Quantidade: {contagem}\")\n"
   ]
  },
  {
   "cell_type": "markdown",
   "id": "85da6a76-4505-4d51-a837-75bea14583c0",
   "metadata": {},
   "source": [
    "- Forma de pagamento mais usado em cada estado"
   ]
  },
  {
   "cell_type": "code",
   "execution_count": 20,
   "id": "b5907e8b-3763-4b7e-a009-d7eacea4d2eb",
   "metadata": {},
   "outputs": [
    {
     "name": "stdout",
     "output_type": "stream",
     "text": [
      "Estado: BA, Forma de Pagamento Mais Comum: Cartão, Quantidade: 218\n",
      "Estado: MG, Forma de Pagamento Mais Comum: Boleto, Quantidade: 206\n",
      "Estado: PR, Forma de Pagamento Mais Comum: Cartão, Quantidade: 199\n",
      "Estado: RJ, Forma de Pagamento Mais Comum: Cartão, Quantidade: 188\n",
      "Estado: SP, Forma de Pagamento Mais Comum: Boleto, Quantidade: 193\n"
     ]
    }
   ],
   "source": [
    "# Agrupar o DataFrame por estado e forma de pagamento e contar o número de ocorrências\n",
    "contagem_estado_forma_pagamento = df.groupby(['Estado:', 'Forma de Pagamento:']).size()\n",
    "\n",
    "# Encontrar o método de pagamento mais comum para cada estado\n",
    "pagamento_mais_comum_por_estado = contagem_estado_forma_pagamento.groupby('Estado:').idxmax()\n",
    "\n",
    "# Exibindo o método de pagamento mais comum para cada estado\n",
    "for estado, pagamento_mais_comum in pagamento_mais_comum_por_estado.items():\n",
    "    _, forma_pagamento = pagamento_mais_comum\n",
    "    contagem = contagem_estado_forma_pagamento[pagamento_mais_comum]\n",
    "    print(f\"Estado: {estado}, Forma de Pagamento Mais Comum: {forma_pagamento}, Quantidade: {contagem}\")\n"
   ]
  },
  {
   "cell_type": "markdown",
   "id": "f175920a-2421-4b50-8ca4-eaa49f331e78",
   "metadata": {},
   "source": [
    "### Financeiro da Empresa"
   ]
  },
  {
   "cell_type": "markdown",
   "id": "61e92097-7050-4328-9873-817101ad230f",
   "metadata": {},
   "source": [
    "-  Faturamento Nacional "
   ]
  },
  {
   "cell_type": "code",
   "execution_count": 23,
   "id": "a4334982-d769-4ae5-88ae-e6c4de9dbfbf",
   "metadata": {},
   "outputs": [
    {
     "name": "stdout",
     "output_type": "stream",
     "text": [
      "Faturamento Nacional: R$24237760.00\n"
     ]
    }
   ],
   "source": [
    "# Calcular o faturamento nacional\n",
    "faturamento_nacional = (df['Quantidade:'] * df['Valor Unitário:']).sum()\n",
    "\n",
    "# Exibir o faturamento nacional\n",
    "print(f\"Faturamento Nacional: R${faturamento_nacional:.2f}\")\n",
    "\n"
   ]
  },
  {
   "cell_type": "markdown",
   "id": "aa2c0253-9cb4-4556-99dd-c82849ae447b",
   "metadata": {},
   "source": [
    "- Faturamento por Estado"
   ]
  },
  {
   "cell_type": "code",
   "execution_count": 31,
   "id": "9b393261-91db-4d74-acfc-01155ec424aa",
   "metadata": {},
   "outputs": [
    {
     "name": "stdout",
     "output_type": "stream",
     "text": [
      "Estado: BA, Faturamento: R$5101550.00\n",
      "Estado: MG, Faturamento: R$4859570.00\n",
      "Estado: PR, Faturamento: R$4685460.00\n",
      "Estado: RJ, Faturamento: R$4944640.00\n",
      "Estado: SP, Faturamento: R$4646540.00\n"
     ]
    }
   ],
   "source": [
    "# Criar uma nova coluna 'Faturamento_temp:' que é o produto da quantidade pelo valor unitário\n",
    "df['Faturamento_temp:'] = df['Quantidade:'] * df['Valor Unitário:']\n",
    "\n",
    "# Agrupar pelo estado e somar o faturamento para cada estado\n",
    "faturamento_por_estado = df.groupby('Estado:')['Faturamento_temp:'].sum()\n",
    "\n",
    "# Exibir o faturamento por estado\n",
    "for estado, faturamento in faturamento_por_estado.items():\n",
    "    print(f\"Estado: {estado}, Faturamento: R${faturamento:.2f}\")\n",
    "\n",
    "# Excluir a coluna 'Faturamento_temp\n",
    "df.drop(columns=['Faturamento_temp:'], inplace=True)"
   ]
  },
  {
   "cell_type": "markdown",
   "id": "e46e946e-6cf8-42ea-8d6e-43b53d7dfafc",
   "metadata": {},
   "source": [
    "- Faturamento por Gênero\n",
    "\n"
   ]
  },
  {
   "cell_type": "code",
   "execution_count": 33,
   "id": "5ea4e07c-c258-4e83-81e7-fc7416b69171",
   "metadata": {},
   "outputs": [
    {
     "name": "stdout",
     "output_type": "stream",
     "text": [
      "Gênero: F, Faturamento: R$10698980.00\n",
      "Gênero: M, Faturamento: R$13538780.00\n"
     ]
    }
   ],
   "source": [
    "# Criar uma nova coluna 'Faturamento_temp:' que é o produto da quantidade pelo valor unitário\n",
    "df['Faturamento_temp:'] = df['Quantidade:'] * df['Valor Unitário:']\n",
    "\n",
    "# Agrupar pelo gênero e somar o faturamento para cada gênero\n",
    "faturamento_por_genero = df.groupby('Gênero:')['Faturamento_temp:'].sum()\n",
    "\n",
    "# Exibir o faturamento por gênero\n",
    "for genero, faturamento in faturamento_por_genero.items():\n",
    "    print(f\"Gênero: {genero}, Faturamento: R${faturamento:.2f}\")\n",
    "\n",
    "# Excluir a coluna 'Faturamento_temp:'\n",
    "df.drop(columns=['Faturamento_temp:'], inplace=True)"
   ]
  },
  {
   "cell_type": "markdown",
   "id": "3821e9ba-b9f6-4e7d-a31a-01d8659ffcc3",
   "metadata": {},
   "source": [
    "- Produto que mais gerou faturamento a empresa\n"
   ]
  },
  {
   "cell_type": "code",
   "execution_count": 34,
   "id": "7039fc7f-aec9-4342-85bf-799ee9cfb3ef",
   "metadata": {},
   "outputs": [
    {
     "name": "stdout",
     "output_type": "stream",
     "text": [
      "Produto que mais gerou faturamento: VR Óculos, Faturamento: R$4600000.00\n"
     ]
    }
   ],
   "source": [
    "# Criar a coluna 'Faturamento_temp:' que é o produto da quantidade pelo valor unitário\n",
    "df['Faturamento_temp:'] = df['Quantidade:'] * df['Valor Unitário:']\n",
    "\n",
    "# Agrupar pelo produto e somar o faturamento para cada produto\n",
    "faturamento_por_produto = df.groupby('Produto:')['Faturamento_temp:'].sum()\n",
    "\n",
    "# Encontrar o produto com o maior faturamento\n",
    "produto_mais_lucrativo = faturamento_por_produto.idxmax()\n",
    "faturamento_max = faturamento_por_produto.max()\n",
    "\n",
    "# Exibir o produto que mais gerou faturamento\n",
    "print(f\"Produto que mais gerou faturamento: {produto_mais_lucrativo}, Faturamento: R${faturamento_max:.2f}\")\n",
    "\n",
    "# Excluir a coluna 'Faturamento_temp:'\n",
    "df.drop(columns=['Faturamento_temp:'], inplace=True)"
   ]
  },
  {
   "cell_type": "markdown",
   "id": "e73afc05-e41b-46be-b465-81c9535c6b25",
   "metadata": {},
   "source": [
    "- Mês que mais gerou faturamento\n",
    "  "
   ]
  },
  {
   "cell_type": "code",
   "execution_count": 64,
   "id": "6b67339d-dfa7-4df2-ad51-f0fb1dc0d26c",
   "metadata": {},
   "outputs": [
    {
     "name": "stdout",
     "output_type": "stream",
     "text": [
      "Mês que mais gerou faturamento: Março, Faturamento: R$8305350.00\n"
     ]
    }
   ],
   "source": [
    "# Calcular o faturamento em cada mês\n",
    "df['Faturamento_temp:'] = df['Quantidade:'] * df['Valor Unitário:']\n",
    "faturamento_por_mes = df.groupby('Mês:')['Faturamento_temp:'].sum()\n",
    "\n",
    "# Encontrar o mês que mais gerou faturamento\n",
    "mes_mais_lucrativo = faturamento_por_mes.idxmax()\n",
    "faturamento_max_mes = faturamento_por_mes.max()\n",
    "\n",
    "# Exibir o mês mais lucrativo\n",
    "print(f\"Mês que mais gerou faturamento: {mes_mais_lucrativo}, Faturamento: R${faturamento_max_mes:.2f}\")\n",
    "\n",
    "# Excluir a coluna temporária 'Faturamento_temp:'\n",
    "df.drop(columns=['Faturamento_temp:'], inplace=True)"
   ]
  },
  {
   "cell_type": "markdown",
   "id": "ae830d8a-6fec-466d-bafc-360c8498aaee",
   "metadata": {},
   "source": [
    "### Sobre os Produtos e Quantidade"
   ]
  },
  {
   "cell_type": "markdown",
   "id": "7eff17fe-5cce-40e7-b43e-49d305e58690",
   "metadata": {},
   "source": [
    "- Quantidade do Produto mais vendidos  Nacionalmente "
   ]
  },
  {
   "cell_type": "code",
   "execution_count": 35,
   "id": "cd4d8ace-61f0-49e6-b36f-3924da0e3517",
   "metadata": {},
   "outputs": [
    {
     "name": "stdout",
     "output_type": "stream",
     "text": [
      "Produto mais vendido: VR Óculos, Quantidade: 1840\n"
     ]
    }
   ],
   "source": [
    "# Agrupar pelo produto e somar as quantidades para cada produto\n",
    "quantidade_por_produto = df.groupby('Produto:')['Quantidade:'].sum()\n",
    "\n",
    "# Encontrar o produto mais vendido\n",
    "produto_mais_vendido = quantidade_por_produto.idxmax()\n",
    "quantidade_max = quantidade_por_produto.max()\n",
    "\n",
    "print(f\"Produto mais vendido: {produto_mais_vendido}, Quantidade: {quantidade_max}\")\n"
   ]
  },
  {
   "cell_type": "markdown",
   "id": "083b766e-86e8-46c7-a372-f59574223402",
   "metadata": {},
   "source": [
    "- Quantidade do Produto menos vendidos Nacionalmente"
   ]
  },
  {
   "cell_type": "code",
   "execution_count": 37,
   "id": "3007cf78-e7c3-4526-92af-ddb8e3847e11",
   "metadata": {},
   "outputs": [
    {
     "name": "stdout",
     "output_type": "stream",
     "text": [
      "Produto menos vendido: Teclado, Quantidade: 1319\n"
     ]
    }
   ],
   "source": [
    "# Encontrar o produto menos vendido\n",
    "produto_menos_vendido = quantidade_por_produto.idxmin()\n",
    "quantidade_min = quantidade_por_produto.min()\n",
    "\n",
    "print(f\"Produto menos vendido: {produto_menos_vendido}, Quantidade: {quantidade_min}\")\n"
   ]
  },
  {
   "cell_type": "markdown",
   "id": "6248fe78-9e35-4f09-881a-db4c7636a2a3",
   "metadata": {},
   "source": [
    "- Produto mais vendido de cada estado"
   ]
  },
  {
   "cell_type": "code",
   "execution_count": 38,
   "id": "faeeda35-b259-4903-b610-0e680dc280e5",
   "metadata": {},
   "outputs": [
    {
     "name": "stdout",
     "output_type": "stream",
     "text": [
      "Estado: BA, Produto mais vendido: HD Externo\n",
      "Estado: MG, Produto mais vendido: Laptop\n",
      "Estado: PR, Produto mais vendido: Mouse\n",
      "Estado: RJ, Produto mais vendido: Fone\n",
      "Estado: SP, Produto mais vendido: HD Externo\n"
     ]
    }
   ],
   "source": [
    "produto_mais_vendido_por_estado = df.groupby('Estado:')['Produto:'].apply(lambda x: x.mode()[0])\n",
    "\n",
    "for estado, produto in produto_mais_vendido_por_estado.items():\n",
    "    print(f\"Estado: {estado}, Produto mais vendido: {produto}\")\n"
   ]
  },
  {
   "cell_type": "markdown",
   "id": "bbbbc641-b597-4c87-be6f-185d7044ad62",
   "metadata": {},
   "source": [
    "- Produto menos vendido de cada Estado"
   ]
  },
  {
   "cell_type": "code",
   "execution_count": 39,
   "id": "b1270ff7-1b09-4c0e-a450-fea2fc244249",
   "metadata": {},
   "outputs": [
    {
     "name": "stdout",
     "output_type": "stream",
     "text": [
      "Estado: SP, Produto menos vendido: Fone\n",
      "Estado: MG, Produto menos vendido: Aspirador\n",
      "Estado: PR, Produto menos vendido: Teclado\n",
      "Estado: RJ, Produto menos vendido: Teclado\n",
      "Estado: BA, Produto menos vendido: Videogame\n"
     ]
    }
   ],
   "source": [
    "# Criar um DataFrame agrupado por Estado e Produto e somar as quantidades para cada combinação\n",
    "grupo_estado_produto = df.groupby(['Estado:', 'Produto:'])['Quantidade:'].sum().reset_index()\n",
    "\n",
    "# Inicializar um dicionário vazio para armazenar o resultado\n",
    "produto_menos_vendido_por_estado = {}\n",
    "\n",
    "# Iterar sobre cada estado no DataFrame original\n",
    "for estado in df['Estado:'].unique():\n",
    "    # Filtrar o DataFrame agrupado para incluir apenas linhas para o estado atual\n",
    "    df_estado = grupo_estado_produto[grupo_estado_produto['Estado:'] == estado]\n",
    "    \n",
    "    # Encontrar o produto com a quantidade mínima para o estado atual\n",
    "    produto_menos_vendido = df_estado.loc[df_estado['Quantidade:'].idxmin()]['Produto:']\n",
    "    \n",
    "    # Adicionar o resultado ao dicionário\n",
    "    produto_menos_vendido_por_estado[estado] = produto_menos_vendido\n",
    "\n",
    "# Exibir o produto menos vendido por estado\n",
    "for estado, produto in produto_menos_vendido_por_estado.items():\n",
    "    print(f\"Estado: {estado}, Produto menos vendido: {produto}\")\n"
   ]
  },
  {
   "cell_type": "markdown",
   "id": "ed01b067-0b04-48e4-b1b0-f91b77236502",
   "metadata": {},
   "source": [
    "- Gênero que mais comprou "
   ]
  },
  {
   "cell_type": "code",
   "execution_count": 40,
   "id": "a6c69ae9-9a83-4748-8b26-194c4f160b38",
   "metadata": {},
   "outputs": [
    {
     "name": "stdout",
     "output_type": "stream",
     "text": [
      "Gênero que mais comprou produtos: M\n"
     ]
    }
   ],
   "source": [
    "genero_mais_compras = df['Gênero:'].mode()[0]\n",
    "\n",
    "print(f\"Gênero que mais comprou produtos: {genero_mais_compras}\")"
   ]
  },
  {
   "cell_type": "markdown",
   "id": "b590ec4b-ac4e-4bf6-9b69-79e52b783698",
   "metadata": {},
   "source": [
    "- Produto mais vendido por Gênero"
   ]
  },
  {
   "cell_type": "code",
   "execution_count": 41,
   "id": "7c07f60e-15de-41a8-b7b5-7c2aceceda0b",
   "metadata": {},
   "outputs": [
    {
     "name": "stdout",
     "output_type": "stream",
     "text": [
      "Gênero: F, Produto mais vendido: HD Externo\n",
      "Gênero: M, Produto mais vendido: Laptop\n"
     ]
    }
   ],
   "source": [
    "produto_mais_vendido_por_genero = df.groupby('Gênero:')['Produto:'].apply(lambda x: x.mode()[0])\n",
    "\n",
    "for genero, produto in produto_mais_vendido_por_genero.items():\n",
    "    print(f\"Gênero: {genero}, Produto mais vendido: {produto}\")\n"
   ]
  },
  {
   "cell_type": "markdown",
   "id": "15c583fd-fc7e-40fd-8858-f1f7c72ef094",
   "metadata": {},
   "source": [
    "- Mês que mais vendeu produtos"
   ]
  },
  {
   "cell_type": "code",
   "execution_count": 65,
   "id": "853b85bf-450c-4c21-aac1-0b69ccf4a7f5",
   "metadata": {},
   "outputs": [
    {
     "name": "stdout",
     "output_type": "stream",
     "text": [
      "Mês que mais vendeu produtos: Janeiro, Quantidade vendida: 9999\n"
     ]
    }
   ],
   "source": [
    "# Calcular o total de produtos vendidos em cada mês\n",
    "produtos_vendidos_por_mes = df.groupby('Mês:')['Quantidade:'].sum()\n",
    "\n",
    "# Encontrar o mês que mais vendeu produtos\n",
    "mes_mais_vendido = produtos_vendidos_por_mes.idxmax()\n",
    "quantidade_max_mes = produtos_vendidos_por_mes.max()\n",
    "\n",
    "# Exibir o mês mais vendido\n",
    "print(f\"Mês que mais vendeu produtos: {mes_mais_vendido}, Quantidade vendida: {quantidade_max_mes}\")"
   ]
  },
  {
   "cell_type": "markdown",
   "id": "8ce505da-0e20-48b9-9c61-0d9292faea24",
   "metadata": {},
   "source": [
    "- Média Sobre a Quantidade de Produtos Comprados pelo Cliente"
   ]
  },
  {
   "cell_type": "code",
   "execution_count": 44,
   "id": "3201de2e-3981-4dfe-93ad-3194e5ba650d",
   "metadata": {},
   "outputs": [
    {
     "name": "stdout",
     "output_type": "stream",
     "text": [
      "Média da Quantidade de Produtos Comprados por Todos os Clientes: 10.68\n"
     ]
    }
   ],
   "source": [
    "# Calcular a média da quantidade de produtos comprados por todos os clientes\n",
    "media_total = df['Quantidade:'].mean()\n",
    "\n",
    "# Exibir a média total com duas casas decimais\n",
    "print(\"Média da Quantidade de Produtos Comprados por Todos os Clientes: {:.2f}\".format(media_total))\n",
    "\n",
    "\n"
   ]
  },
  {
   "cell_type": "markdown",
   "id": "998100e2-2c86-434b-a64f-d1445ef1b92b",
   "metadata": {},
   "source": [
    "- Média Sobre Quantidade de Produtos Comprados pelo Gênero"
   ]
  },
  {
   "cell_type": "code",
   "execution_count": 47,
   "id": "8de4e249-0e02-431e-8739-c1c983e73822",
   "metadata": {},
   "outputs": [
    {
     "name": "stdout",
     "output_type": "stream",
     "text": [
      "\n",
      "Média da Quantidade de Produtos Comprados por Gênero:\n",
      "Gênero:\n",
      "F    10.64\n",
      "M    10.71\n",
      "Name: Quantidade:, dtype: float64\n"
     ]
    }
   ],
   "source": [
    "# Calcular a média da quantidade de produtos comprados por gênero\n",
    "media_por_genero = df.groupby('Gênero:')['Quantidade:'].mean()\n",
    "\n",
    "# Exibir a média por gênero com duas casas decimais\n",
    "print(\"\\nMédia da Quantidade de Produtos Comprados por Gênero:\")\n",
    "print(media_por_genero.round(2))\n"
   ]
  },
  {
   "cell_type": "markdown",
   "id": "0b0358e9-92fa-42ed-b523-1ed53c395f56",
   "metadata": {},
   "source": [
    "- Média Sobre Quantidade de Produtos Comprados por Estado"
   ]
  },
  {
   "cell_type": "code",
   "execution_count": 48,
   "id": "432ce593-4b60-4424-9d9a-bc1fb1a2251d",
   "metadata": {},
   "outputs": [
    {
     "name": "stdout",
     "output_type": "stream",
     "text": [
      "\n",
      "Média da Quantidade de Produtos Comprados por Estado:\n",
      "Estado:\n",
      "BA    10.72\n",
      "MG    11.01\n",
      "PR    10.31\n",
      "RJ    10.56\n",
      "SP    10.79\n",
      "Name: Quantidade:, dtype: float64\n"
     ]
    }
   ],
   "source": [
    "# Calcular a média da quantidade de produtos comprados por estado\n",
    "media_por_estado = df.groupby('Estado:')['Quantidade:'].mean()\n",
    "\n",
    "# Exibir a média por estado com duas casas decimais\n",
    "print(\"\\nMédia da Quantidade de Produtos Comprados por Estado:\")\n",
    "print(media_por_estado.round(2))\n"
   ]
  },
  {
   "cell_type": "markdown",
   "id": "115e9f6c-b64a-4a42-a573-729c6ea40ce1",
   "metadata": {},
   "source": [
    "- Mediana e Desvio Padrão da Quantidade de Produtos Vendidos"
   ]
  },
  {
   "cell_type": "code",
   "execution_count": 51,
   "id": "48643768-8a7e-4b9a-a481-d32e8d5faa86",
   "metadata": {},
   "outputs": [
    {
     "name": "stdout",
     "output_type": "stream",
     "text": [
      "\n",
      "Estatísticas da Quantidade de Produtos Vendidos:\n",
      "Mediana: 11.0\n",
      "Desvio Padrão da Quantidade de Produtos Vendidos: 5.80\n"
     ]
    }
   ],
   "source": [
    "# Calcular a mediana da quantidade de produtos vendidos\n",
    "mediana_quantidade = df['Quantidade:'].median()\n",
    "\n",
    "# Calcular o desvio padrão da quantidade de produtos vendidos\n",
    "desvio_padrao_quantidade = df['Quantidade:'].std()\n",
    "\n",
    "# Exibir as estatísticas\n",
    "print(\"\\nEstatísticas da Quantidade de Produtos Vendidos:\")\n",
    "print(f\"Mediana: {mediana_quantidade}\")\n",
    "print(f\"Desvio Padrão da Quantidade de Produtos Vendidos: {desvio_padrao_quantidade:.2f}\")"
   ]
  },
  {
   "cell_type": "markdown",
   "id": "136a5fc0-151d-4de7-b811-fc4689e81ea3",
   "metadata": {},
   "source": [
    "- Teste Normalidade "
   ]
  },
  {
   "cell_type": "code",
   "execution_count": 55,
   "id": "ee817242-da4e-4965-adb4-2c1b9505b355",
   "metadata": {},
   "outputs": [
    {
     "name": "stdout",
     "output_type": "stream",
     "text": [
      "\n",
      "Teste de Normalidade (Shapiro-Wilk):\n",
      "Estatística de Teste: 0.95\n",
      "Valor p: 4.922e-30\n",
      "A quantidade vendida não segue uma distribuição normal (p <= 0.05)\n"
     ]
    }
   ],
   "source": [
    "from scipy.stats import shapiro\n",
    "\n",
    "# Realizar o teste de Shapiro-Wilk na quantidade vendida\n",
    "stat, p = shapiro(df['Quantidade:'])\n",
    "\n",
    "# Exibir o resultado do teste formatando o valor p com três casas decimais\n",
    "print(\"\\nTeste de Normalidade (Shapiro-Wilk):\")\n",
    "print(f\"Estatística de Teste: {stat:.2f}\")\n",
    "print(f\"Valor p: {p:.3e}\")  # Formatando o valor p como notação científica com três casas decimais\n",
    "\n",
    "# Verificar se a quantidade vendida segue uma distribuição normal com base no valor p\n",
    "if p > 0.05:\n",
    "    print(\"A quantidade vendida segue uma distribuição normal (p > 0.05)\")\n",
    "else:\n",
    "    print(\"A quantidade vendida não segue uma distribuição normal (p <= 0.05)\")\n"
   ]
  },
  {
   "cell_type": "markdown",
   "id": "e642ef3d-c83e-4c7b-a793-6785db2178c4",
   "metadata": {},
   "source": [
    "### Principais Gráficos para Análise\n"
   ]
  },
  {
   "cell_type": "code",
   "execution_count": 58,
   "id": "a5e3b670-ca25-4f52-a02b-6ae90585c3cc",
   "metadata": {},
   "outputs": [
    {
     "data": {
      "image/png": "[encoded data removed]",
      "text/plain": [
       "<Figure size 1000x600 with 1 Axes>"
      ]
     },
     "metadata": {},
     "output_type": "display_data"
    }
   ],
   "source": [
    "import matplotlib.pyplot as plt\n",
    "\n",
    "# Calcular o faturamento por estado\n",
    "faturamento_por_estado = df.groupby('Estado:')['Quantidade:'].sum() * df.groupby('Estado:')['Valor Unitário:'].sum()\n",
    "\n",
    "# Criar um gráfico de barras\n",
    "plt.figure(figsize=(10, 6))\n",
    "faturamento_por_estado.plot(kind='bar')\n",
    "plt.title('Faturamento por Estado')\n",
    "plt.xlabel('Estado')\n",
    "plt.ylabel('Faturamento')\n",
    "plt.xticks(rotation=45)\n",
    "plt.show()"
   ]
  },
  {
   "cell_type": "code",
   "execution_count": 59,
   "id": "028b51f0-3135-4928-b53a-e6997d91fcc3",
   "metadata": {},
   "outputs": [
    {
     "data": {
      "image/png": "[encoded data removed]",
      "text/plain": [
       "<Figure size 800x800 with 1 Axes>"
      ]
     },
     "metadata": {},
     "output_type": "display_data"
    }
   ],
   "source": [
    "# Contar o número de clientes por gênero\n",
    "contagem_genero = df['Gênero:'].value_counts()\n",
    "\n",
    "# Criar um gráfico de pizza\n",
    "plt.figure(figsize=(8, 8))\n",
    "contagem_genero.plot(kind='pie', autopct='%1.1f%%', startangle=90)\n",
    "plt.title('Distribuição de Gênero de Clientes')\n",
    "plt.ylabel('')\n",
    "plt.show()\n"
   ]
  },
  {
   "cell_type": "code",
   "execution_count": 60,
   "id": "7a4b2043-0b8e-4fb6-b9b9-19178f14485f",
   "metadata": {},
   "outputs": [
    {
     "data": {
      "image/png": "[encoded data removed]",
      "text/plain": [
       "<Figure size 1000x600 with 1 Axes>"
      ]
     },
     "metadata": {},
     "output_type": "display_data"
    }
   ],
   "source": [
    "# Calcular a quantidade vendida por produto\n",
    "quantidade_por_produto = df.groupby('Produto:')['Quantidade:'].sum()\n",
    "\n",
    "# Ordenar os produtos por quantidade vendida em ordem decrescente\n",
    "produtos_mais_vendidos = quantidade_por_produto.sort_values(ascending=False)\n",
    "\n",
    "# Criar um gráfico de barras com os 10 produtos mais vendidos\n",
    "plt.figure(figsize=(10, 6))\n",
    "produtos_mais_vendidos.head(10).plot(kind='bar')\n",
    "plt.title('Ranking dos 10 Produtos Mais Vendidos')\n",
    "plt.xlabel('Produto')\n",
    "plt.ylabel('Quantidade Vendida')\n",
    "plt.xticks(rotation=45)\n",
    "plt.show()\n"
   ]
  },
  {
   "cell_type": "code",
   "execution_count": 63,
   "id": "f8925a80-d099-4260-bcdc-da34a6d1092e",
   "metadata": {},
   "outputs": [
    {
     "data": {
      "image/png": "[encoded data removed]",
      "text/plain": [
       "<Figure size 1000x600 with 1 Axes>"
      ]
     },
     "metadata": {},
     "output_type": "display_data"
    }
   ],
   "source": [
    "import matplotlib.pyplot as plt\n",
    "\n",
    "# Calcular o faturamento por mês\n",
    "faturamento_por_mes = df.groupby('Mês:')['Quantidade:'].sum() * df.groupby('Mês:')['Valor Unitário:'].sum()\n",
    "\n",
    "# Criar um gráfico de barras\n",
    "plt.figure(figsize=(10, 6))\n",
    "faturamento_por_mes.plot(kind='bar')\n",
    "plt.title('Faturamento por Mês')\n",
    "plt.xlabel('Mês')\n",
    "plt.ylabel('Faturamento')\n",
    "plt.xticks(rotation=45)\n",
    "plt.show()\n"
   ]
  },
  {
   "cell_type": "markdown",
   "id": "0f5e3e13-9ed9-49e6-82e1-f8c33a60de09",
   "metadata": {},
   "source": [
    "### Regionalização da Empresa EcoEletro"
   ]
  },
  {
   "cell_type": "markdown",
   "id": "d3eccf14-cdd5-4014-af20-a36581d36e51",
   "metadata": {},
   "source": [
    "\r\n",
    "**Produtos Mais Vendidos por Estado:**\r\n",
    "- Observar quais produtos são mais vendidos em cada estado fornece informações valiosas sobre as preferências regionais dos clientes. Isso pode ser usado para adaptar a estratégia de estoque e marketing em cada região.\r\n",
    "- No exemplo fornecido, temos as informações sobre o produto mais vendido em cada estado, o que pode indicar quais produtos têm uma demanda mais forte em cada localidade.\r\n",
    "- A empresa pode usar esses insights para:\r\n",
    "  - Garantir que os produtos mais populares em cada estado estejam sempre disponíveis em estoque, evitando a falta de produtos que os clientes desejam.\r\n",
    "  - Realizar promoções específicas para os produtos mais populares em determinadas regiões para aumentar as vendas.\r\n",
    "  - Adaptar a estratégia de marketing, destacando os produtos mais vendidos em campanhas publicitárias locais.\r\n",
    "  - Desenvolver parcerias estratégicas com fornecedores ou fabricantes de produtos populares em regiões específicas.\r\n",
    "\r\n",
    "**Produtos Menos Vendidos por Estado:**\r\n",
    "- Da mesma forma, identificar os produtos menos vendidos em cada estado é igualmente importante. Isso pode indicar produtos que não têm uma demanda significativa em determinadas regiões.\r\n",
    "- A empresa pode usar esses insights para:\r\n",
    "  - Avaliar se vale a pena manter em estoque produtos que têm baixa demanda em determinados estados.\r\n",
    "  - Considerar a realização de promoções ou campanhas de marketing direcionadas para impulsionar a venda de produtos menos populares em regiões específicas.\r\n",
    "  - Explorar a possibilidade de iprodutos ou variedadesos ou variedades que sejam mais alinhados com as pclientesias dos clAante notar que a análise dos produtos mais e menos vendidos por estado é uma ferramenta valiosa para a gestão de estoque e estratégia de vendas. Isso ajuda a empresa a ser mais eficiente em atender às necessidades dos clientes em diferentes regiões, otimizar seus recursos e maximizar suas vendas. Além disso, permite uma abordagem mais personalizada em relação aos gostos e preferências dos clientes em todo o país."
   ]
  },
  {
   "cell_type": "code",
   "execution_count": null,
   "id": "8a894058-7b1f-4da2-8e3e-3699c14514fa",
   "metadata": {},
   "outputs": [],
   "source": []
  },
  {
   "cell_type": "code",
   "execution_count": null,
   "id": "9c638339-db16-4c07-8082-d59a32914462",
   "metadata": {},
   "outputs": [],
   "source": []
  }
 ],
 "metadata": {
  "kernelspec": {
   "display_name": "Python 3 (ipykernel)",
   "language": "python",
   "name": "python3"
  },
  "language_info": {
   "codemirror_mode": {
    "name": "ipython",
    "version": 3
   },
   "file_extension": ".py",
   "mimetype": "text/x-python",
   "name": "python",
   "nbconvert_exporter": "python",
   "pygments_lexer": "ipython3",
   "version": "3.10.4"
  }
 },
 "nbformat": 4,
 "nbformat_minor": 5
}
